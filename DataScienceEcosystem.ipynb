{
 "cells": [
  {
   "cell_type": "markdown",
   "id": "bbc1d13b",
   "metadata": {},
   "source": [
    "# H1 header example"
   ]
  },
  {
   "cell_type": "markdown",
   "id": "0e281c68",
   "metadata": {},
   "source": [
    "### In this notebook, Data Science Tools and Ecosystem are summarized."
   ]
  },
  {
   "cell_type": "markdown",
   "id": "b136b545",
   "metadata": {},
   "source": [
    "### some of the popular data science languages are:\n",
    "1. python\n",
    "2. R\n",
    "3. SQL\n",
    "4. Scala\n",
    "5. SAS\n"
   ]
  },
  {
   "cell_type": "markdown",
   "id": "2f570609",
   "metadata": {},
   "source": [
    "## Some of the commonly used libraries used by Data Scientists include:\n",
    "1. Pandas\n",
    "2. numpy\n",
    "3. matplotlib\n",
    "4. seaborn\n",
    "5. tensorflow\n",
    "6. Scikitlearn"
   ]
  },
  {
   "cell_type": "markdown",
   "id": "37c5c90c",
   "metadata": {},
   "source": [
    "| Data Science Tools |\n",
    "|---|\n",
    "|Jupyter Notebook|\n",
    "|R Studio|\n",
    "|VSCode|\n",
    "|Spyder|\n",
    "|google colab|"
   ]
  },
  {
   "cell_type": "markdown",
   "id": "daa16d2b",
   "metadata": {},
   "source": [
    "### Below are a few examples of evaluating arithmetic expressions in Python"
   ]
  },
  {
   "cell_type": "code",
   "execution_count": 1,
   "id": "6ee7e68c",
   "metadata": {},
   "outputs": [
    {
     "data": {
      "text/plain": [
       "17"
      ]
     },
     "execution_count": 1,
     "metadata": {},
     "output_type": "execute_result"
    }
   ],
   "source": [
    "(3*4)+5"
   ]
  },
  {
   "cell_type": "code",
   "execution_count": 2,
   "id": "a1fe0db0",
   "metadata": {},
   "outputs": [
    {
     "data": {
      "text/plain": [
       "3.3333333333333335"
      ]
     },
     "execution_count": 2,
     "metadata": {},
     "output_type": "execute_result"
    }
   ],
   "source": [
    "#This will convert 200 minutes to hours by diving by 60\n",
    "\n",
    "minutes = 200\n",
    "\n",
    "hours = minutes / 60\n",
    "\n",
    "hours"
   ]
  },
  {
   "cell_type": "markdown",
   "id": "24fbfec4",
   "metadata": {},
   "source": [
    "### **Objectives:**\n",
    "* Languages of data science.\n",
    "* Libraries of data science.\n",
    "* Data Science tools.\n",
    "* Creating table in a markdown cell.\n"
   ]
  },
  {
   "cell_type": "markdown",
   "id": "ff001e0c",
   "metadata": {},
   "source": [
    "## Author\n",
    "Brian Lewis"
   ]
  }
 ],
 "metadata": {
  "kernelspec": {
   "display_name": "Python 3 (ipykernel)",
   "language": "python",
   "name": "python3"
  },
  "language_info": {
   "codemirror_mode": {
    "name": "ipython",
    "version": 3
   },
   "file_extension": ".py",
   "mimetype": "text/x-python",
   "name": "python",
   "nbconvert_exporter": "python",
   "pygments_lexer": "ipython3",
   "version": "3.12.3"
  }
 },
 "nbformat": 4,
 "nbformat_minor": 5
}
